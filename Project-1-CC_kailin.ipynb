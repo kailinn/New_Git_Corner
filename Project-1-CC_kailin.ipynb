{
 "cells": [
  {
   "cell_type": "markdown",
   "metadata": {},
   "source": [
    "<img src=\"http://imgur.com/1ZcRyrc.png\" style=\"float: left; margin: 20px; height: 55px\">\n",
    "\n",
    "# Project 1: Python Coding Exercises\n",
    "\n",
    "_Authors: Joseph Nelson (DC) _\n",
    "\n",
    "---"
   ]
  },
  {
   "cell_type": "markdown",
   "metadata": {},
   "source": [
    "The following code challenges are drawn from common exercises used in technical interviews.\n",
    "\n",
    "Please note that there may be several ways to approach each challenge. If you get stuck, try mapping out your approach in pseudocode first. Finally, while solutions to problems like these may be found online, remember that if you copy/paste code that you can't explain, you'll be missing out on the point of the project. The only way to truly learn a new skill is through practice, trial, and error - we can only help you improve by understanding where you are having trouble."
   ]
  },
  {
   "cell_type": "markdown",
   "metadata": {},
   "source": [
    "### Challenge 1: Largest Palindrome\n",
    "A palindromic number reads the same both ways. For example, 1234321 is a palindrome. The largest palindrome made from the product of two two-digit numbers is 9009 = 91 × 99. Find the largest palindrome made from the product of two three-digit numbers. Afterward, write a brief explanation walking through your code's logic in markdown."
   ]
  },
  {
   "cell_type": "code",
   "execution_count": 75,
   "metadata": {},
   "outputs": [
    {
     "name": "stdout",
     "output_type": "stream",
     "text": [
      "906609\n"
     ]
    }
   ],
   "source": [
    "def isPalindrome(num):\n",
    "    return str(num) == str(num)[::-1]\n",
    "def largest(bot,top):\n",
    "    list = range(bot,top,1)\n",
    "    z = 0\n",
    "    for x in list:\n",
    "        for y in list:\n",
    "            if isPalindrome(x*y):\n",
    "                if x*y>z:\n",
    "                    z = x*y\n",
    "    return z\n",
    "\n",
    "print(largest(100,1000))"
   ]
  },
  {
   "cell_type": "markdown",
   "metadata": {},
   "source": [
    "define Palindrome.\n",
    "define list from smallest to largest 3-digit integer.\n",
    "using for loop until it reaches the largest palindrome."
   ]
  },
  {
   "cell_type": "markdown",
   "metadata": {},
   "source": [
    "\n",
    "### Challenge 2: Summation of Primes\n",
    "The sum of the primes below 10 is 2 + 3 + 5 + 7 = 17. Find the sum of all the primes below 2,000. Afterward, write a brief explanation walking through your code's logic in markdown."
   ]
  },
  {
   "cell_type": "code",
   "execution_count": 165,
   "metadata": {},
   "outputs": [
    {
     "name": "stdout",
     "output_type": "stream",
     "text": [
      "3960000\n"
     ]
    }
   ],
   "source": [
    "def isPrime(n):\n",
    "    y = 0\n",
    "    for x in range(2,n,1):\n",
    "        if n%x != 0:\n",
    "            y += n\n",
    "    return y\n",
    "\n",
    "print(isPrime(2000))"
   ]
  },
  {
   "cell_type": "markdown",
   "metadata": {},
   "source": [
    "define prime number.\n",
    "set x to be within range from 2 to n.\n",
    "if n is prime number, add into y\n",
    "set the range at 2000 to get the summation of prime numbers.\n"
   ]
  },
  {
   "cell_type": "markdown",
   "metadata": {},
   "source": [
    "### Challenge 3: Multiples of 3 and 5\n",
    "If we list all of the natural numbers below 10 that are multiples of 3 or 5, we get 3, 5, 6, and 9. The sum of these multiples is 23. Find the sum of all the multiples of 3 and 5 below 1,000. Afterward, write a brief explanation walking through your code's logic in markdown."
   ]
  },
  {
   "cell_type": "code",
   "execution_count": 168,
   "metadata": {},
   "outputs": [
    {
     "name": "stdout",
     "output_type": "stream",
     "text": [
      "233168\n"
     ]
    }
   ],
   "source": [
    "def is3x(p):\n",
    "    return p%3 == 0\n",
    "def is5x(q):\n",
    "    return q%5 == 0\n",
    "def is15x(r):\n",
    "    return r%15 == 0 \n",
    "\n",
    "def total(min,max):\n",
    "    list = range(min,max,1)\n",
    "    a = 0\n",
    "    b = 0\n",
    "    c = 0 \n",
    "    for x in list:\n",
    "        if is3x(x):\n",
    "            a += x\n",
    "    for y in list:\n",
    "        if is5x(y):\n",
    "            b += y\n",
    "    for z in list:\n",
    "        if is15x(z):\n",
    "            c += z\n",
    "    return a+b-c\n",
    "\n",
    "print(total(1,1000))"
   ]
  },
  {
   "cell_type": "markdown",
   "metadata": {},
   "source": [
    "define numbers divisible by 3, 5 and both 3 and 5.\n",
    "using for loop to get total number divisible by 3, 5 and both.\n",
    "Final value for number below 1000 is (num divisible by 3)+(num divisible by 5)-(num divisible by both)"
   ]
  },
  {
   "cell_type": "markdown",
   "metadata": {},
   "source": [
    "### Challenge 4: String Compressor\n",
    "Implement a method to perform basic string compression using the counts of repeated characters. (This is called run-length encoding.) For example, the string \"aabcccccaaa\" would become a2b1c5a3. If the “compressed” string would not become smaller than the original string, your method should return the original string. You can assume the string has only uppercase and lowercase letters (a–z). Specify whether your solution is case sensitive or case insensitive and what you would need to change to make it the other. Afterward, write a brief explanation walking through your code's logic in markdown."
   ]
  },
  {
   "cell_type": "code",
   "execution_count": 206,
   "metadata": {},
   "outputs": [
    {
     "data": {
      "text/plain": [
       "'a2b1c156787a11011'"
      ]
     },
     "execution_count": 206,
     "metadata": {},
     "output_type": "execute_result"
    }
   ],
   "source": [
    "def compress(string):\n",
    "    character = \"\"\n",
    "    number = n\n",
    "    \n",
    "    character += string[0]                   \n",
    "    \n",
    "    for i in range(len(string)-1):           \n",
    "        if string[i] == string[i+1]:         \n",
    "            number = i+1                      \n",
    "            character += str(i+2)         \n",
    "        else:\n",
    "            if number>1:\n",
    "                character += str(number)   \n",
    "                \n",
    "            if string[i] != string[i+1]:\n",
    "                character += string[i+1]         \n",
    "                number = 1                       \n",
    "                character += str(1)\n",
    "            else:\n",
    "                if string[i] == string[i+1]:\n",
    "                        character += str(number)             \n",
    "                    \n",
    "    return character\n",
    "\n",
    "compress(\"aabcccccaaa\")\n",
    "        \n",
    "            "
   ]
  },
  {
   "cell_type": "code",
   "execution_count": null,
   "metadata": {},
   "outputs": [],
   "source": [
    "define, add and calculate character by character\n",
    "but the current coding not able to work after c, unable to resolve and still debugging."
   ]
  },
  {
   "cell_type": "markdown",
   "metadata": {},
   "source": [
    "### *BONUS* Challenge: FizzBuzz\n",
    "Write a program that prints all of the numbers from 1 to 100. For multiples of 3, instead of the number, print \"Fizz;\" for multiples of 5, print \"Buzz.\" For numbers that are multiples of both 3 and 5, print \"FizzBuzz.\" Afterward, write a brief explanation walking through your code's logic in markdown."
   ]
  },
  {
   "cell_type": "code",
   "execution_count": 232,
   "metadata": {},
   "outputs": [
    {
     "name": "stdout",
     "output_type": "stream",
     "text": [
      "1\n",
      "2\n",
      "Fizz\n",
      "4\n",
      "Buzz\n",
      "Fizz\n",
      "7\n",
      "8\n",
      "Fizz\n",
      "Buzz\n",
      "11\n",
      "Fizz\n",
      "13\n",
      "14\n",
      "FizzBuzz\n",
      "16\n",
      "17\n",
      "Fizz\n",
      "19\n",
      "Buzz\n",
      "Fizz\n",
      "22\n",
      "23\n",
      "Fizz\n",
      "Buzz\n",
      "26\n",
      "Fizz\n",
      "28\n",
      "29\n",
      "FizzBuzz\n",
      "31\n",
      "32\n",
      "Fizz\n",
      "34\n",
      "Buzz\n",
      "Fizz\n",
      "37\n",
      "38\n",
      "Fizz\n",
      "Buzz\n",
      "41\n",
      "Fizz\n",
      "43\n",
      "44\n",
      "FizzBuzz\n",
      "46\n",
      "47\n",
      "Fizz\n",
      "49\n",
      "Buzz\n",
      "Fizz\n",
      "52\n",
      "53\n",
      "Fizz\n",
      "Buzz\n",
      "56\n",
      "Fizz\n",
      "58\n",
      "59\n",
      "FizzBuzz\n",
      "61\n",
      "62\n",
      "Fizz\n",
      "64\n",
      "Buzz\n",
      "Fizz\n",
      "67\n",
      "68\n",
      "Fizz\n",
      "Buzz\n",
      "71\n",
      "Fizz\n",
      "73\n",
      "74\n",
      "FizzBuzz\n",
      "76\n",
      "77\n",
      "Fizz\n",
      "79\n",
      "Buzz\n",
      "Fizz\n",
      "82\n",
      "83\n",
      "Fizz\n",
      "Buzz\n",
      "86\n",
      "Fizz\n",
      "88\n",
      "89\n",
      "FizzBuzz\n",
      "91\n",
      "92\n",
      "Fizz\n",
      "94\n",
      "Buzz\n",
      "Fizz\n",
      "97\n",
      "98\n",
      "Fizz\n",
      "Buzz\n",
      "None\n"
     ]
    }
   ],
   "source": [
    "def integer1(a):\n",
    "    return a%3 != 0\n",
    "def integer2(b):\n",
    "    return b%5 != 0\n",
    "def integer3(c):\n",
    "    return a%15 != 0\n",
    "def is3x(p):\n",
    "    return p%3 == 0\n",
    "def is5x(q):\n",
    "    return q%5 == 0\n",
    "def is15x(r):\n",
    "    return r%15 == 0 \n",
    "\n",
    "for number in range(1,100,1):\n",
    "    def total(min,max):\n",
    "        list = range(1,101,1)\n",
    "        for d in list:\n",
    "            if is15x(d):\n",
    "                print(\"FizzBuzz\")\n",
    "            elif is3x(d):\n",
    "                print(\"Fizz\")\n",
    "            elif is5x(d):\n",
    "                print(\"Buzz\")\n",
    "            elif integer1(d):\n",
    "                print(d)\n",
    "            elif integer2(d):\n",
    "                print(d)\n",
    "            elif integer3(d):\n",
    "                print(d)\n",
    "        \n",
    "\n",
    "print(total(1,100))"
   ]
  },
  {
   "cell_type": "code",
   "execution_count": null,
   "metadata": {},
   "outputs": [],
   "source": [
    "define for number that can and cannot be divided by 3, 5 and 15.\n",
    "put if condition for those to print out with string, which those with numbers follow next."
   ]
  }
 ],
 "metadata": {
  "anaconda-cloud": {},
  "kernelspec": {
   "display_name": "Python 3",
   "language": "python",
   "name": "python3"
  },
  "language_info": {
   "codemirror_mode": {
    "name": "ipython",
    "version": 3
   },
   "file_extension": ".py",
   "mimetype": "text/x-python",
   "name": "python",
   "nbconvert_exporter": "python",
   "pygments_lexer": "ipython3",
   "version": "3.6.4"
  }
 },
 "nbformat": 4,
 "nbformat_minor": 2
}
